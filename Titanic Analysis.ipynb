{
 "cells": [
  {
   "cell_type": "markdown",
   "id": "7d6c03cb-2d79-48ad-86db-99521428ee89",
   "metadata": {},
   "source": [
    "# Titanic Data Analysis with Probability"
   ]
  },
  {
   "cell_type": "markdown",
   "id": "91ae1528-7ca5-4bbc-bccd-1cdd5b18865f",
   "metadata": {},
   "source": [
    "# Part A – Data Exploration "
   ]
  },
  {
   "cell_type": "code",
   "execution_count": 1,
   "id": "04e5bb8a-902c-4ea5-b95c-ff95ea58873c",
   "metadata": {},
   "outputs": [],
   "source": [
    "import numpy as np\n",
    "import pandas as pd\n",
    "import matplotlib.pyplot as plt\n",
    "import seaborn as sns"
   ]
  },
  {
   "cell_type": "code",
   "execution_count": 2,
   "id": "042d8ef2-f0ff-4d0c-8b9f-e074f404441a",
   "metadata": {},
   "outputs": [],
   "source": [
    "df = pd.read_csv(r\"C:\\Users\\HP\\Downloads\\Titanic-Dataset.csv\")"
   ]
  },
  {
   "cell_type": "code",
   "execution_count": 3,
   "id": "b204d8f4-c623-4f60-a859-97d8151bd9b1",
   "metadata": {},
   "outputs": [
    {
     "data": {
      "text/html": [
       "<div>\n",
       "<style scoped>\n",
       "    .dataframe tbody tr th:only-of-type {\n",
       "        vertical-align: middle;\n",
       "    }\n",
       "\n",
       "    .dataframe tbody tr th {\n",
       "        vertical-align: top;\n",
       "    }\n",
       "\n",
       "    .dataframe thead th {\n",
       "        text-align: right;\n",
       "    }\n",
       "</style>\n",
       "<table border=\"1\" class=\"dataframe\">\n",
       "  <thead>\n",
       "    <tr style=\"text-align: right;\">\n",
       "      <th></th>\n",
       "      <th>PassengerId</th>\n",
       "      <th>Survived</th>\n",
       "      <th>Pclass</th>\n",
       "      <th>Name</th>\n",
       "      <th>Sex</th>\n",
       "      <th>Age</th>\n",
       "      <th>SibSp</th>\n",
       "      <th>Parch</th>\n",
       "      <th>Ticket</th>\n",
       "      <th>Fare</th>\n",
       "      <th>Cabin</th>\n",
       "      <th>Embarked</th>\n",
       "    </tr>\n",
       "  </thead>\n",
       "  <tbody>\n",
       "    <tr>\n",
       "      <th>0</th>\n",
       "      <td>1</td>\n",
       "      <td>0</td>\n",
       "      <td>3</td>\n",
       "      <td>Braund, Mr. Owen Harris</td>\n",
       "      <td>male</td>\n",
       "      <td>22.0</td>\n",
       "      <td>1</td>\n",
       "      <td>0</td>\n",
       "      <td>A/5 21171</td>\n",
       "      <td>7.2500</td>\n",
       "      <td>NaN</td>\n",
       "      <td>S</td>\n",
       "    </tr>\n",
       "    <tr>\n",
       "      <th>1</th>\n",
       "      <td>2</td>\n",
       "      <td>1</td>\n",
       "      <td>1</td>\n",
       "      <td>Cumings, Mrs. John Bradley (Florence Briggs Th...</td>\n",
       "      <td>female</td>\n",
       "      <td>38.0</td>\n",
       "      <td>1</td>\n",
       "      <td>0</td>\n",
       "      <td>PC 17599</td>\n",
       "      <td>71.2833</td>\n",
       "      <td>C85</td>\n",
       "      <td>C</td>\n",
       "    </tr>\n",
       "    <tr>\n",
       "      <th>2</th>\n",
       "      <td>3</td>\n",
       "      <td>1</td>\n",
       "      <td>3</td>\n",
       "      <td>Heikkinen, Miss. Laina</td>\n",
       "      <td>female</td>\n",
       "      <td>26.0</td>\n",
       "      <td>0</td>\n",
       "      <td>0</td>\n",
       "      <td>STON/O2. 3101282</td>\n",
       "      <td>7.9250</td>\n",
       "      <td>NaN</td>\n",
       "      <td>S</td>\n",
       "    </tr>\n",
       "    <tr>\n",
       "      <th>3</th>\n",
       "      <td>4</td>\n",
       "      <td>1</td>\n",
       "      <td>1</td>\n",
       "      <td>Futrelle, Mrs. Jacques Heath (Lily May Peel)</td>\n",
       "      <td>female</td>\n",
       "      <td>35.0</td>\n",
       "      <td>1</td>\n",
       "      <td>0</td>\n",
       "      <td>113803</td>\n",
       "      <td>53.1000</td>\n",
       "      <td>C123</td>\n",
       "      <td>S</td>\n",
       "    </tr>\n",
       "    <tr>\n",
       "      <th>4</th>\n",
       "      <td>5</td>\n",
       "      <td>0</td>\n",
       "      <td>3</td>\n",
       "      <td>Allen, Mr. William Henry</td>\n",
       "      <td>male</td>\n",
       "      <td>35.0</td>\n",
       "      <td>0</td>\n",
       "      <td>0</td>\n",
       "      <td>373450</td>\n",
       "      <td>8.0500</td>\n",
       "      <td>NaN</td>\n",
       "      <td>S</td>\n",
       "    </tr>\n",
       "    <tr>\n",
       "      <th>5</th>\n",
       "      <td>6</td>\n",
       "      <td>0</td>\n",
       "      <td>3</td>\n",
       "      <td>Moran, Mr. James</td>\n",
       "      <td>male</td>\n",
       "      <td>NaN</td>\n",
       "      <td>0</td>\n",
       "      <td>0</td>\n",
       "      <td>330877</td>\n",
       "      <td>8.4583</td>\n",
       "      <td>NaN</td>\n",
       "      <td>Q</td>\n",
       "    </tr>\n",
       "    <tr>\n",
       "      <th>6</th>\n",
       "      <td>7</td>\n",
       "      <td>0</td>\n",
       "      <td>1</td>\n",
       "      <td>McCarthy, Mr. Timothy J</td>\n",
       "      <td>male</td>\n",
       "      <td>54.0</td>\n",
       "      <td>0</td>\n",
       "      <td>0</td>\n",
       "      <td>17463</td>\n",
       "      <td>51.8625</td>\n",
       "      <td>E46</td>\n",
       "      <td>S</td>\n",
       "    </tr>\n",
       "    <tr>\n",
       "      <th>7</th>\n",
       "      <td>8</td>\n",
       "      <td>0</td>\n",
       "      <td>3</td>\n",
       "      <td>Palsson, Master. Gosta Leonard</td>\n",
       "      <td>male</td>\n",
       "      <td>2.0</td>\n",
       "      <td>3</td>\n",
       "      <td>1</td>\n",
       "      <td>349909</td>\n",
       "      <td>21.0750</td>\n",
       "      <td>NaN</td>\n",
       "      <td>S</td>\n",
       "    </tr>\n",
       "    <tr>\n",
       "      <th>8</th>\n",
       "      <td>9</td>\n",
       "      <td>1</td>\n",
       "      <td>3</td>\n",
       "      <td>Johnson, Mrs. Oscar W (Elisabeth Vilhelmina Berg)</td>\n",
       "      <td>female</td>\n",
       "      <td>27.0</td>\n",
       "      <td>0</td>\n",
       "      <td>2</td>\n",
       "      <td>347742</td>\n",
       "      <td>11.1333</td>\n",
       "      <td>NaN</td>\n",
       "      <td>S</td>\n",
       "    </tr>\n",
       "    <tr>\n",
       "      <th>9</th>\n",
       "      <td>10</td>\n",
       "      <td>1</td>\n",
       "      <td>2</td>\n",
       "      <td>Nasser, Mrs. Nicholas (Adele Achem)</td>\n",
       "      <td>female</td>\n",
       "      <td>14.0</td>\n",
       "      <td>1</td>\n",
       "      <td>0</td>\n",
       "      <td>237736</td>\n",
       "      <td>30.0708</td>\n",
       "      <td>NaN</td>\n",
       "      <td>C</td>\n",
       "    </tr>\n",
       "  </tbody>\n",
       "</table>\n",
       "</div>"
      ],
      "text/plain": [
       "   PassengerId  Survived  Pclass  \\\n",
       "0            1         0       3   \n",
       "1            2         1       1   \n",
       "2            3         1       3   \n",
       "3            4         1       1   \n",
       "4            5         0       3   \n",
       "5            6         0       3   \n",
       "6            7         0       1   \n",
       "7            8         0       3   \n",
       "8            9         1       3   \n",
       "9           10         1       2   \n",
       "\n",
       "                                                Name     Sex   Age  SibSp  \\\n",
       "0                            Braund, Mr. Owen Harris    male  22.0      1   \n",
       "1  Cumings, Mrs. John Bradley (Florence Briggs Th...  female  38.0      1   \n",
       "2                             Heikkinen, Miss. Laina  female  26.0      0   \n",
       "3       Futrelle, Mrs. Jacques Heath (Lily May Peel)  female  35.0      1   \n",
       "4                           Allen, Mr. William Henry    male  35.0      0   \n",
       "5                                   Moran, Mr. James    male   NaN      0   \n",
       "6                            McCarthy, Mr. Timothy J    male  54.0      0   \n",
       "7                     Palsson, Master. Gosta Leonard    male   2.0      3   \n",
       "8  Johnson, Mrs. Oscar W (Elisabeth Vilhelmina Berg)  female  27.0      0   \n",
       "9                Nasser, Mrs. Nicholas (Adele Achem)  female  14.0      1   \n",
       "\n",
       "   Parch            Ticket     Fare Cabin Embarked  \n",
       "0      0         A/5 21171   7.2500   NaN        S  \n",
       "1      0          PC 17599  71.2833   C85        C  \n",
       "2      0  STON/O2. 3101282   7.9250   NaN        S  \n",
       "3      0            113803  53.1000  C123        S  \n",
       "4      0            373450   8.0500   NaN        S  \n",
       "5      0            330877   8.4583   NaN        Q  \n",
       "6      0             17463  51.8625   E46        S  \n",
       "7      1            349909  21.0750   NaN        S  \n",
       "8      2            347742  11.1333   NaN        S  \n",
       "9      0            237736  30.0708   NaN        C  "
      ]
     },
     "execution_count": 3,
     "metadata": {},
     "output_type": "execute_result"
    }
   ],
   "source": [
    "df.head(10)"
   ]
  },
  {
   "cell_type": "code",
   "execution_count": 4,
   "id": "75734f06-353c-479a-817a-6871d0f1032d",
   "metadata": {},
   "outputs": [
    {
     "name": "stdout",
     "output_type": "stream",
     "text": [
      "<class 'pandas.core.frame.DataFrame'>\n",
      "RangeIndex: 891 entries, 0 to 890\n",
      "Data columns (total 12 columns):\n",
      " #   Column       Non-Null Count  Dtype  \n",
      "---  ------       --------------  -----  \n",
      " 0   PassengerId  891 non-null    int64  \n",
      " 1   Survived     891 non-null    int64  \n",
      " 2   Pclass       891 non-null    int64  \n",
      " 3   Name         891 non-null    object \n",
      " 4   Sex          891 non-null    object \n",
      " 5   Age          714 non-null    float64\n",
      " 6   SibSp        891 non-null    int64  \n",
      " 7   Parch        891 non-null    int64  \n",
      " 8   Ticket       891 non-null    object \n",
      " 9   Fare         891 non-null    float64\n",
      " 10  Cabin        204 non-null    object \n",
      " 11  Embarked     889 non-null    object \n",
      "dtypes: float64(2), int64(5), object(5)\n",
      "memory usage: 83.7+ KB\n"
     ]
    }
   ],
   "source": [
    "df.info()"
   ]
  },
  {
   "cell_type": "code",
   "execution_count": 5,
   "id": "8d7ff1ec-f1ae-4a79-b3d6-e9883022cca2",
   "metadata": {},
   "outputs": [
    {
     "data": {
      "text/html": [
       "<div>\n",
       "<style scoped>\n",
       "    .dataframe tbody tr th:only-of-type {\n",
       "        vertical-align: middle;\n",
       "    }\n",
       "\n",
       "    .dataframe tbody tr th {\n",
       "        vertical-align: top;\n",
       "    }\n",
       "\n",
       "    .dataframe thead th {\n",
       "        text-align: right;\n",
       "    }\n",
       "</style>\n",
       "<table border=\"1\" class=\"dataframe\">\n",
       "  <thead>\n",
       "    <tr style=\"text-align: right;\">\n",
       "      <th></th>\n",
       "      <th>PassengerId</th>\n",
       "      <th>Survived</th>\n",
       "      <th>Pclass</th>\n",
       "      <th>Age</th>\n",
       "      <th>SibSp</th>\n",
       "      <th>Parch</th>\n",
       "      <th>Fare</th>\n",
       "    </tr>\n",
       "  </thead>\n",
       "  <tbody>\n",
       "    <tr>\n",
       "      <th>count</th>\n",
       "      <td>891.000000</td>\n",
       "      <td>891.000000</td>\n",
       "      <td>891.000000</td>\n",
       "      <td>714.000000</td>\n",
       "      <td>891.000000</td>\n",
       "      <td>891.000000</td>\n",
       "      <td>891.000000</td>\n",
       "    </tr>\n",
       "    <tr>\n",
       "      <th>mean</th>\n",
       "      <td>446.000000</td>\n",
       "      <td>0.383838</td>\n",
       "      <td>2.308642</td>\n",
       "      <td>29.699118</td>\n",
       "      <td>0.523008</td>\n",
       "      <td>0.381594</td>\n",
       "      <td>32.204208</td>\n",
       "    </tr>\n",
       "    <tr>\n",
       "      <th>std</th>\n",
       "      <td>257.353842</td>\n",
       "      <td>0.486592</td>\n",
       "      <td>0.836071</td>\n",
       "      <td>14.526497</td>\n",
       "      <td>1.102743</td>\n",
       "      <td>0.806057</td>\n",
       "      <td>49.693429</td>\n",
       "    </tr>\n",
       "    <tr>\n",
       "      <th>min</th>\n",
       "      <td>1.000000</td>\n",
       "      <td>0.000000</td>\n",
       "      <td>1.000000</td>\n",
       "      <td>0.420000</td>\n",
       "      <td>0.000000</td>\n",
       "      <td>0.000000</td>\n",
       "      <td>0.000000</td>\n",
       "    </tr>\n",
       "    <tr>\n",
       "      <th>25%</th>\n",
       "      <td>223.500000</td>\n",
       "      <td>0.000000</td>\n",
       "      <td>2.000000</td>\n",
       "      <td>20.125000</td>\n",
       "      <td>0.000000</td>\n",
       "      <td>0.000000</td>\n",
       "      <td>7.910400</td>\n",
       "    </tr>\n",
       "    <tr>\n",
       "      <th>50%</th>\n",
       "      <td>446.000000</td>\n",
       "      <td>0.000000</td>\n",
       "      <td>3.000000</td>\n",
       "      <td>28.000000</td>\n",
       "      <td>0.000000</td>\n",
       "      <td>0.000000</td>\n",
       "      <td>14.454200</td>\n",
       "    </tr>\n",
       "    <tr>\n",
       "      <th>75%</th>\n",
       "      <td>668.500000</td>\n",
       "      <td>1.000000</td>\n",
       "      <td>3.000000</td>\n",
       "      <td>38.000000</td>\n",
       "      <td>1.000000</td>\n",
       "      <td>0.000000</td>\n",
       "      <td>31.000000</td>\n",
       "    </tr>\n",
       "    <tr>\n",
       "      <th>max</th>\n",
       "      <td>891.000000</td>\n",
       "      <td>1.000000</td>\n",
       "      <td>3.000000</td>\n",
       "      <td>80.000000</td>\n",
       "      <td>8.000000</td>\n",
       "      <td>6.000000</td>\n",
       "      <td>512.329200</td>\n",
       "    </tr>\n",
       "  </tbody>\n",
       "</table>\n",
       "</div>"
      ],
      "text/plain": [
       "       PassengerId    Survived      Pclass         Age       SibSp  \\\n",
       "count   891.000000  891.000000  891.000000  714.000000  891.000000   \n",
       "mean    446.000000    0.383838    2.308642   29.699118    0.523008   \n",
       "std     257.353842    0.486592    0.836071   14.526497    1.102743   \n",
       "min       1.000000    0.000000    1.000000    0.420000    0.000000   \n",
       "25%     223.500000    0.000000    2.000000   20.125000    0.000000   \n",
       "50%     446.000000    0.000000    3.000000   28.000000    0.000000   \n",
       "75%     668.500000    1.000000    3.000000   38.000000    1.000000   \n",
       "max     891.000000    1.000000    3.000000   80.000000    8.000000   \n",
       "\n",
       "            Parch        Fare  \n",
       "count  891.000000  891.000000  \n",
       "mean     0.381594   32.204208  \n",
       "std      0.806057   49.693429  \n",
       "min      0.000000    0.000000  \n",
       "25%      0.000000    7.910400  \n",
       "50%      0.000000   14.454200  \n",
       "75%      0.000000   31.000000  \n",
       "max      6.000000  512.329200  "
      ]
     },
     "execution_count": 5,
     "metadata": {},
     "output_type": "execute_result"
    }
   ],
   "source": [
    "df.describe()"
   ]
  },
  {
   "cell_type": "code",
   "execution_count": 6,
   "id": "e1a3a1e0-4080-4518-ba36-d574db4d5abf",
   "metadata": {},
   "outputs": [
    {
     "data": {
      "text/plain": [
       "PassengerId      0\n",
       "Survived         0\n",
       "Pclass           0\n",
       "Name             0\n",
       "Sex              0\n",
       "Age            177\n",
       "SibSp            0\n",
       "Parch            0\n",
       "Ticket           0\n",
       "Fare             0\n",
       "Cabin          687\n",
       "Embarked         2\n",
       "dtype: int64"
      ]
     },
     "execution_count": 6,
     "metadata": {},
     "output_type": "execute_result"
    }
   ],
   "source": [
    "df.isnull().sum()"
   ]
  },
  {
   "cell_type": "code",
   "execution_count": 7,
   "id": "c187bb1a-3ecd-428e-b13c-8023baa27400",
   "metadata": {},
   "outputs": [
    {
     "data": {
      "text/plain": [
       "np.float64(29.69911764705882)"
      ]
     },
     "execution_count": 7,
     "metadata": {},
     "output_type": "execute_result"
    }
   ],
   "source": [
    "df[\"Age\"].mean()"
   ]
  },
  {
   "cell_type": "code",
   "execution_count": 8,
   "id": "82b4a8b2-ded1-42c6-9c6f-7c17e90ef553",
   "metadata": {},
   "outputs": [],
   "source": [
    "age = df[\"Age\"].fillna(df[\"Age\"].mean())"
   ]
  },
  {
   "cell_type": "code",
   "execution_count": 9,
   "id": "3b01fd04-8dfa-424d-b2db-cffd0de27657",
   "metadata": {},
   "outputs": [
    {
     "data": {
      "text/plain": [
       "np.int64(0)"
      ]
     },
     "execution_count": 9,
     "metadata": {},
     "output_type": "execute_result"
    }
   ],
   "source": [
    "age.isnull().sum()"
   ]
  },
  {
   "cell_type": "code",
   "execution_count": 10,
   "id": "9d618f91-411b-4a5c-9282-561cbba6a213",
   "metadata": {},
   "outputs": [
    {
     "data": {
      "text/plain": [
       "Embarked\n",
       "S    644\n",
       "C    168\n",
       "Q     77\n",
       "Name: count, dtype: int64"
      ]
     },
     "execution_count": 10,
     "metadata": {},
     "output_type": "execute_result"
    }
   ],
   "source": [
    "df[\"Embarked\"].value_counts()"
   ]
  },
  {
   "cell_type": "code",
   "execution_count": 11,
   "id": "a1d054d9-3527-40c3-9731-8d3970e42beb",
   "metadata": {},
   "outputs": [
    {
     "name": "stdout",
     "output_type": "stream",
     "text": [
      "Most common port of embarkation: S\n"
     ]
    }
   ],
   "source": [
    "most_common_port = df['Embarked'].mode()[0]\n",
    "print(\"Most common port of embarkation:\", most_common_port)"
   ]
  },
  {
   "cell_type": "code",
   "execution_count": 12,
   "id": "0ecfc897-39f9-414a-8f38-2a8e160468b2",
   "metadata": {},
   "outputs": [],
   "source": [
    "embarked = df[\"Embarked\"].fillna(most_common_port)"
   ]
  },
  {
   "cell_type": "code",
   "execution_count": 13,
   "id": "4163da1f-230d-41de-a1ae-feab1fd6a832",
   "metadata": {},
   "outputs": [
    {
     "data": {
      "text/plain": [
       "np.int64(0)"
      ]
     },
     "execution_count": 13,
     "metadata": {},
     "output_type": "execute_result"
    }
   ],
   "source": [
    "embarked.isnull().sum()"
   ]
  },
  {
   "cell_type": "markdown",
   "id": "3bb77979-1cf5-4656-a8de-4244aaf3fbd2",
   "metadata": {},
   "source": [
    "## How many passengers were onboard?"
   ]
  },
  {
   "cell_type": "code",
   "execution_count": 14,
   "id": "9befec70-d44a-4182-a79b-96b789489986",
   "metadata": {},
   "outputs": [
    {
     "name": "stdout",
     "output_type": "stream",
     "text": [
      "Total numbers of passengers: 891\n"
     ]
    }
   ],
   "source": [
    "Passengers= df[\"PassengerId\"].count()\n",
    "print(f\"Total numbers of passengers: {Passengers}\")"
   ]
  },
  {
   "cell_type": "markdown",
   "id": "8bce60cc-934b-48f6-9579-3b3fb1f64072",
   "metadata": {},
   "source": [
    "## What is the average Age?"
   ]
  },
  {
   "cell_type": "code",
   "execution_count": 15,
   "id": "f82de052-8fd5-4dc2-baaf-997793dec754",
   "metadata": {},
   "outputs": [
    {
     "name": "stdout",
     "output_type": "stream",
     "text": [
      "Average Age: 29.69911764705882\n"
     ]
    }
   ],
   "source": [
    "Average_Age = df[\"Age\"].mean()\n",
    "print(f\"Average Age: {Average_Age}\")"
   ]
  },
  {
   "cell_type": "markdown",
   "id": "0fec336f-cefe-4b31-8499-b232f4ed86ef",
   "metadata": {},
   "source": [
    "## What is the average Fare?"
   ]
  },
  {
   "cell_type": "code",
   "execution_count": 16,
   "id": "9e9e1ca1-8b1a-4012-988f-d041389a87e4",
   "metadata": {},
   "outputs": [
    {
     "name": "stdout",
     "output_type": "stream",
     "text": [
      "Average Fare: 32.204207968574636\n"
     ]
    }
   ],
   "source": [
    "Average_Fare = df[\"Fare\"].mean()\n",
    "print(\"Average Fare:\", Average_Fare)"
   ]
  },
  {
   "cell_type": "markdown",
   "id": "57efa763-4be1-4d51-9368-6949e96bf877",
   "metadata": {},
   "source": [
    "## How many males and females were there?"
   ]
  },
  {
   "cell_type": "code",
   "execution_count": 17,
   "id": "8e79e161-c262-4577-9d20-160dded3dc88",
   "metadata": {},
   "outputs": [
    {
     "name": "stdout",
     "output_type": "stream",
     "text": [
      "Sex\n",
      "male      577\n",
      "female    314\n",
      "Name: count, dtype: int64\n"
     ]
    }
   ],
   "source": [
    "Gender_counts = df[\"Sex\"].value_counts()\n",
    "print(Gender_counts)"
   ]
  },
  {
   "cell_type": "markdown",
   "id": "d64fbe8b-6222-4b73-8188-b5661d260a21",
   "metadata": {},
   "source": [
    "# Part B – Data Analysis "
   ]
  },
  {
   "cell_type": "code",
   "execution_count": 18,
   "id": "6d5bc3d9-4ef3-47b8-a953-f869b7ea7266",
   "metadata": {},
   "outputs": [
    {
     "name": "stdout",
     "output_type": "stream",
     "text": [
      "No of People Survived: 342\n",
      "No of People Not Survived: 549\n"
     ]
    }
   ],
   "source": [
    "survive_count = df[\"Survived\"].value_counts()\n",
    "people_survived = survive_count.get(1, 0)\n",
    "people_not_survived = survive_count.get(0, 0)\n",
    "print(f\"No of People Survived: {people_survived}\")\n",
    "print(f\"No of People Not Survived: {people_not_survived}\")"
   ]
  },
  {
   "cell_type": "code",
   "execution_count": 19,
   "id": "4f63a701-aebf-4666-80be-1577fe3b5b1d",
   "metadata": {},
   "outputs": [
    {
     "name": "stdout",
     "output_type": "stream",
     "text": [
      "Percentage of Passengers Survived: 260.53%\n"
     ]
    }
   ],
   "source": [
    "total_count = df[\"Survived\"].value_counts().sum()\n",
    "Per_of_survived = (total_count/people_survived)*100\n",
    "print(f\"Percentage of Passengers Survived: {Per_of_survived:.2f}%\")"
   ]
  },
  {
   "cell_type": "code",
   "execution_count": 20,
   "id": "a04b790b-4d52-4d8c-8268-fff6b055c58f",
   "metadata": {},
   "outputs": [
    {
     "data": {
      "text/plain": [
       "Pclass\n",
       "3    491\n",
       "1    216\n",
       "2    184\n",
       "Name: count, dtype: int64"
      ]
     },
     "execution_count": 20,
     "metadata": {},
     "output_type": "execute_result"
    }
   ],
   "source": [
    "df[\"Pclass\"].value_counts()"
   ]
  },
  {
   "cell_type": "code",
   "execution_count": 21,
   "id": "746f8fd4-0c6e-42b0-8039-f64f00d03d09",
   "metadata": {},
   "outputs": [
    {
     "name": "stdout",
     "output_type": "stream",
     "text": [
      "Class 1 Survival Rate: 62.96%\n",
      "Class 2 Survival Rate: 47.28%\n",
      "Class 3 Survival Rate: 24.24%\n"
     ]
    }
   ],
   "source": [
    "survival_by_class = df.groupby(\"Pclass\")[\"Survived\"].mean() * 100\n",
    "for pclass, rate in survival_by_class.items():\n",
    "    print(f\"Class {pclass} Survival Rate: {rate:.2f}%\")"
   ]
  },
  {
   "cell_type": "markdown",
   "id": "c0566358-01a8-4145-8470-e1a43ec2505a",
   "metadata": {},
   "source": [
    "## Which class had the highest chance of survival?\n",
    "### Class 1 has the highest rate of survival with 62.96% rate."
   ]
  },
  {
   "cell_type": "code",
   "execution_count": 22,
   "id": "66c6ceaa-3f01-4f77-985f-896db37a9b41",
   "metadata": {},
   "outputs": [
    {
     "data": {
      "text/plain": [
       "Age_Group\n",
       "Child      69\n",
       "Teen       95\n",
       "Adult     402\n",
       "Senior    147\n",
       "Name: count, dtype: int64"
      ]
     },
     "execution_count": 22,
     "metadata": {},
     "output_type": "execute_result"
    }
   ],
   "source": [
    "bins = [0, 13, 20, 41, df[\"Age\"].max()]\n",
    "labels = [\"Child\", \"Teen\", \"Adult\", \"Senior\"]\n",
    "df[\"Age_Group\"] = pd.cut(df[\"Age\"], bins=bins, labels=labels, right=False)\n",
    "df[\"Age_Group\"].value_counts().sort_index()"
   ]
  },
  {
   "cell_type": "code",
   "execution_count": 23,
   "id": "b75cc203-be54-4c38-a419-8749131f4b0b",
   "metadata": {
    "scrolled": true
   },
   "outputs": [
    {
     "name": "stdout",
     "output_type": "stream",
     "text": [
      "Class Child Survival Rate: 57.97%\n",
      "Class Teen Survival Rate: 41.05%\n",
      "Class Adult Survival Rate: 38.81%\n",
      "Class Senior Survival Rate: 36.73%\n"
     ]
    },
    {
     "name": "stderr",
     "output_type": "stream",
     "text": [
      "C:\\Users\\HP\\AppData\\Local\\Temp\\ipykernel_14740\\749307810.py:1: FutureWarning: The default of observed=False is deprecated and will be changed to True in a future version of pandas. Pass observed=False to retain current behavior or observed=True to adopt the future default and silence this warning.\n",
      "  survival_by_age_group = df.groupby(\"Age_Group\")[\"Survived\"].mean() * 100\n"
     ]
    }
   ],
   "source": [
    "survival_by_age_group = df.groupby(\"Age_Group\")[\"Survived\"].mean() * 100\n",
    "for agroup, rate in survival_by_age_group.items():\n",
    "    print(f\"Class {agroup} Survival Rate: {rate:.2f}%\")"
   ]
  },
  {
   "cell_type": "markdown",
   "id": "c242bbf1-cf14-4376-bee3-95ce509090b6",
   "metadata": {},
   "source": [
    "## Part C – Visualization "
   ]
  },
  {
   "cell_type": "code",
   "execution_count": 24,
   "id": "ce4bbc02-4dfa-44ab-b965-1215f7b0beff",
   "metadata": {},
   "outputs": [
    {
     "data": {
      "image/png": "[encoded data removed]",
      "text/plain": [
       "<Figure size 640x480 with 1 Axes>"
      ]
     },
     "metadata": {},
     "output_type": "display_data"
    }
   ],
   "source": [
    "survival_counts = df['Survived'].value_counts().rename(index={0: 'Not Survived', 1: 'Survived'})\n",
    "survival_counts.plot(kind = 'bar')\n",
    "plt.title(\"Survived VS Not Survived\")\n",
    "plt.xlabel(\"\")\n",
    "plt.ylabel(\"Number of Passengers\")\n",
    "plt.xticks(rotation=0)\n",
    "plt.show()"
   ]
  },
  {
   "cell_type": "code",
   "execution_count": 33,
   "id": "6a1b2f48-bd96-4769-a120-786295e1fadf",
   "metadata": {},
   "outputs": [
    {
     "data": {
      "image/png": "[encoded data removed]",
      "text/plain": [
       "<Figure size 640x480 with 1 Axes>"
      ]
     },
     "metadata": {},
     "output_type": "display_data"
    }
   ],
   "source": [
    "df[\"Age\"].plot(kind = 'hist', bins = 20)\n",
    "plt.title(\"Age Distribution of Passengers\")\n",
    "plt.xlabel(\"Age\")\n",
    "plt.show()"
   ]
  },
  {
   "cell_type": "code",
   "execution_count": 25,
   "id": "f4b9d505-57c1-47b2-b634-a97b8bcc4edf",
   "metadata": {},
   "outputs": [
    {
     "data": {
      "text/plain": [
       "Sex\n",
       "Male      577\n",
       "Female    314\n",
       "Name: count, dtype: int64"
      ]
     },
     "execution_count": 25,
     "metadata": {},
     "output_type": "execute_result"
    }
   ],
   "source": [
    "Gender_dist = df[\"Sex\"].value_counts()\n",
    "Gender_dist.rename(index={\"male\": \"Male\", \"female\": \"Female\"}, inplace=True)\n",
    "Gender_dist"
   ]
  },
  {
   "cell_type": "code",
   "execution_count": 26,
   "id": "88dcef5b-4684-49a2-9e46-4da2e3c52424",
   "metadata": {},
   "outputs": [
    {
     "data": {
      "image/png": "[encoded data removed]",
      "text/plain": [
       "<Figure size 640x480 with 1 Axes>"
      ]
     },
     "metadata": {},
     "output_type": "display_data"
    }
   ],
   "source": [
    "Gender_dist.plot(kind = 'pie')\n",
    "plt.title(\"Gender Distribution of Titanic\")\n",
    "plt.show()"
   ]
  },
  {
   "cell_type": "code",
   "execution_count": 42,
   "id": "14e0d85a-975b-406e-991d-8dbad6377c3d",
   "metadata": {},
   "outputs": [
    {
     "data": {
      "image/png": "[encoded data removed]",
      "text/plain": [
       "<Figure size 640x480 with 1 Axes>"
      ]
     },
     "metadata": {},
     "output_type": "display_data"
    }
   ],
   "source": [
    "sns.countplot(data=df, x=\"Sex\", hue=\"Survived\")\n",
    "plt.title(\"Survival Count by Gender\")\n",
    "plt.xlabel(\"Gender\")\n",
    "plt.ylabel(\"Number of Passengers\")\n",
    "plt.legend(title=\"Survived\", labels=[\"No\", \"Yes\"])\n",
    "plt.show()"
   ]
  },
  {
   "cell_type": "code",
   "execution_count": 46,
   "id": "c6b25e56-b233-4f0a-b7af-5fca877fd178",
   "metadata": {},
   "outputs": [
    {
     "data": {
      "image/png": "[encoded data removed]",
      "text/plain": [
       "<Figure size 640x480 with 1 Axes>"
      ]
     },
     "metadata": {},
     "output_type": "display_data"
    }
   ],
   "source": [
    "sns.boxplot(data=df, x=\"Pclass\", y=\"Fare\")\n",
    "plt.title(\"Fare Distribution by Passenger Class\")\n",
    "plt.xlabel(\"Passenger Class\")\n",
    "plt.show()"
   ]
  },
  {
   "cell_type": "code",
   "execution_count": 53,
   "id": "de5ab493-9f00-43bd-8019-66595070e00f",
   "metadata": {},
   "outputs": [
    {
     "data": {
      "image/png": "[encoded data removed]",
      "text/plain": [
       "<Figure size 640x480 with 1 Axes>"
      ]
     },
     "metadata": {},
     "output_type": "display_data"
    }
   ],
   "source": [
    "sns.violinplot(data=df, x=\"Survived\", y=\"Age\")\n",
    "plt.title(\"Age Distribution by Survival Status\")\n",
    "plt.xlabel(\"\")\n",
    "plt.ylabel(\"Age\")\n",
    "plt.xticks([0, 1], [\"Did Not Survive\", \"Survived\"])\n",
    "plt.show()\n"
   ]
  },
  {
   "cell_type": "code",
   "execution_count": 57,
   "id": "1c16bfe2-2481-49fd-95bf-e7f54a1f0d89",
   "metadata": {},
   "outputs": [
    {
     "data": {
      "image/png": "[encoded data removed]",
      "text/plain": [
       "<Figure size 640x480 with 2 Axes>"
      ]
     },
     "metadata": {},
     "output_type": "display_data"
    }
   ],
   "source": [
    "Numeric_cols = [\"Age\", \"Fare\", \"Pclass\", \"Survived\"]\n",
    "corr_matrix = df[Numeric_cols].corr()\n",
    "sns.heatmap(corr_matrix, annot=True, cmap=\"coolwarm\", fmt=\".2f\", linewidths=0.5)\n",
    "plt.title(\"Correlation Between Numerical Features\")\n",
    "plt.show()"
   ]
  },
  {
   "cell_type": "markdown",
   "id": "e2cbfb1f-238c-49fa-81f3-fd9081d3bca5",
   "metadata": {},
   "source": [
    "## Part D – Probability Concepts"
   ]
  },
  {
   "cell_type": "markdown",
   "id": "535e7600-2bd2-4237-b3e1-43c2d96fc653",
   "metadata": {},
   "source": [
    "## Probability a passenger survived"
   ]
  },
  {
   "cell_type": "code",
   "execution_count": 73,
   "id": "daba0a4b-1e10-4db6-b763-7ee0130aa8c3",
   "metadata": {},
   "outputs": [
    {
     "name": "stdout",
     "output_type": "stream",
     "text": [
      "Probability a passenger survived: 38.38%\n"
     ]
    }
   ],
   "source": [
    "Total_P = df[\"Survived\"].value_counts().sum()\n",
    "Total_Survived_P = df[\"Survived\"].sum()\n",
    "P_Survived = (Total_Survived_P/Total_P)*100\n",
    "print(f\"Probability a passenger survived: {P_Survived:.2f}%\")"
   ]
  },
  {
   "cell_type": "markdown",
   "id": "df18a00b-5390-45a5-bb2a-98cdbf166f35",
   "metadata": {},
   "source": [
    "## Probability a Female survived"
   ]
  },
  {
   "cell_type": "code",
   "execution_count": 82,
   "id": "be8baff5-50d5-4433-86d7-94f720bcbb1c",
   "metadata": {},
   "outputs": [
    {
     "name": "stdout",
     "output_type": "stream",
     "text": [
      "Probability a female survived: 74.20%\n"
     ]
    }
   ],
   "source": [
    "females = df[df[\"Sex\"] == \"female\"]\n",
    "female_survived = females[\"Survived\"].sum()\n",
    "total_females = len(females)\n",
    "P_female_survived = (female_survived / total_females) * 100\n",
    "print(f\"Probability a Female survived: {P_female_survived:.2f}%\")"
   ]
  },
  {
   "cell_type": "markdown",
   "id": "baf78312-bc89-4606-bd84-25774fcd8cd4",
   "metadata": {},
   "source": [
    "## Probability a Male survived"
   ]
  },
  {
   "cell_type": "code",
   "execution_count": 83,
   "id": "7a0c2d7a-7418-4f33-b041-fa126548f8e5",
   "metadata": {},
   "outputs": [
    {
     "name": "stdout",
     "output_type": "stream",
     "text": [
      "Probability a Male survived: 18.89%\n"
     ]
    }
   ],
   "source": [
    "male = df[df[\"Sex\"] == \"male\"]\n",
    "male_survived = male[\"Survived\"].sum()\n",
    "total_males = len(male)\n",
    "P_male_survived = (male_survived / total_males) * 100\n",
    "print(f\"Probability a Male survived: {P_male_survived:.2f}%\")"
   ]
  },
  {
   "cell_type": "markdown",
   "id": "214e069e-b868-4182-a191-b59a4ee03525",
   "metadata": {},
   "source": [
    "## Compare probabilities across Pclass"
   ]
  },
  {
   "cell_type": "code",
   "execution_count": 90,
   "id": "42f9001c-9352-4e74-8a88-f3bddd8943f0",
   "metadata": {},
   "outputs": [
    {
     "name": "stdout",
     "output_type": "stream",
     "text": [
      "Probability a passenger survived in Pclass 1: 62.96%\n",
      "Probability a passenger survived in Pclass 2: 47.28%\n",
      "Probability a passenger survived in Pclass 3: 24.24%\n"
     ]
    }
   ],
   "source": [
    "for pclass in sorted(df[\"Pclass\"].unique()):\n",
    "    class_df = df[df[\"Pclass\"] == pclass]\n",
    "    class_survived = class_df[\"Survived\"].sum()\n",
    "    total_class = len(class_df)\n",
    "    P_class_survived = (class_survived / total_class) * 100\n",
    "    print(f\"Probability a passenger survived in Pclass {pclass}: {P_class_survived:.2f}%\")"
   ]
  },
  {
   "cell_type": "markdown",
   "id": "469dc87f-1c70-41f2-a9cf-f8c2a394e65d",
   "metadata": {},
   "source": [
    "### Theoretical Probability (Assumptions)"
   ]
  },
  {
   "cell_type": "code",
   "execution_count": 91,
   "id": "e0c75940-7016-4e84-9d51-58232b9ae0eb",
   "metadata": {},
   "outputs": [
    {
     "name": "stdout",
     "output_type": "stream",
     "text": [
      "Theoretical P(Survived): 0.50\n",
      "Theoretical P(Survived | Pclass): 0.33\n",
      "Theoretical P(Survived | Gender): 0.50\n"
     ]
    }
   ],
   "source": [
    "P_theoretical_survived = 0.5\n",
    "P_theoretical_pclass = 1 / 3\n",
    "P_theoretical_gender = 0.5\n",
    "print(f\"Theoretical P(Survived): {P_theoretical_survived:.2f}\")\n",
    "print(f\"Theoretical P(Survived | Pclass): {P_theoretical_pclass:.2f}\")\n",
    "print(f\"Theoretical P(Survived | Gender): {P_theoretical_gender:.2f}\")"
   ]
  },
  {
   "cell_type": "markdown",
   "id": "add69bcc-f170-419c-aa5f-ceec948afcd5",
   "metadata": {},
   "source": [
    "## Part E – Insights & Reporting"
   ]
  },
  {
   "cell_type": "markdown",
   "id": "380283a9-de7c-4427-9038-1f6329aca934",
   "metadata": {},
   "source": [
    "### Did women survive at a higher rate than men? \n",
    "##### Yes. The survival rate for females was significantly higher than for males.\n",
    "\n",
    "### Which class had the best survival chance? \n",
    "##### First-class passengers had the highest survival probability (63%), followed by second class (47%), and third class (24%). \n",
    "\n",
    "### Did age play a role in survival?\n",
    "##### Yes. Children (especially under age 10) had higher survival rates than adults. However, age alone wasn’t a strong predictor—gender and class had stronger influence.\n",
    "\n",
    "### Was Fare (ticket price) related to survival? \n",
    "##### Generally, passengers who paid higher fares had better survival chances. This aligns with the fact that higher fares were associated with first-class cabins and better access to lifeboats.\n",
    "\n",
    "### How do empirical probabilities differ from theoretical probabilities? \n",
    "##### Theoretical probabilities assume equal chances across groups (e.g., 50% survival, equal across classes/genders). Empirical probabilities reveal real-world inequalities—women and first-class passengers had much higher survival rates than others."
   ]
  },
  {
   "cell_type": "markdown",
   "id": "3339e68e-c1eb-4775-81ac-996880c9a3dc",
   "metadata": {},
   "source": [
    "# Summary of Analysis"
   ]
  },
  {
   "cell_type": "markdown",
   "id": "d167300f-0b7e-4e6a-8b82-74883c8bf4ad",
   "metadata": {},
   "source": [
    "- Women had a survival rate more than double that of men.\n",
    "\n",
    "- First-class passengers had the highest survival probability (~63%).\n",
    "\n",
    "- Third-class passengers faced the lowest survival rate (~24%), highlighting class-based disparities.\n",
    "\n",
    "- Children had better survival odds than adults, especially those under age 10.\n",
    "\n",
    "- Higher ticket fares were loosely correlated with higher survival chances.\n",
    "\n",
    "- Empirical data revealed strong biases in survival outcomes, unlike the equal-chance assumptions of theoretical probability.\n",
    "\n",
    "- The Titanic dataset reflects how social status, gender, and age influenced life-or-death outcomes during the disaster."
   ]
  },
  {
   "cell_type": "code",
   "execution_count": null,
   "id": "cbd42bcc-5314-4f99-9019-e817b38d40a0",
   "metadata": {},
   "outputs": [],
   "source": []
  }
 ],
 "metadata": {
  "kernelspec": {
   "display_name": "Python 3 (ipykernel)",
   "language": "python",
   "name": "python3"
  },
  "language_info": {
   "codemirror_mode": {
    "name": "ipython",
    "version": 3
   },
   "file_extension": ".py",
   "mimetype": "text/x-python",
   "name": "python",
   "nbconvert_exporter": "python",
   "pygments_lexer": "ipython3",
   "version": "3.13.7"
  }
 },
 "nbformat": 4,
 "nbformat_minor": 5
}
